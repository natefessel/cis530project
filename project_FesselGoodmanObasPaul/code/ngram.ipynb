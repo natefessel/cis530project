{
  "cells": [
    {
      "cell_type": "code",
      "source": [
        "import math, random\n",
        "import os\n",
        "import sklearn.metrics\n",
        "import pandas as pd\n",
        "import os.path as path\n",
        "import random\n",
        "import statistics"
      ],
      "outputs": [],
      "execution_count": 173,
      "metadata": {
        "collapsed": false,
        "outputHidden": false,
        "inputHidden": false
      }
    },
    {
      "cell_type": "code",
      "source": [
        "def start_pad(n):\n",
        "    ''' Returns padding string of length n to append to the front of text\n",
        "        as a pre-processing step to building n-grams '''\n",
        "    return '~' * n\n",
        "\n",
        "def ngrams(n, text):\n",
        "    ''' Returns the ngrams of the text as tuples where the first element is\n",
        "        the length-n context and the second is the character '''\n",
        "    padded_text = start_pad(n) + text + '#'\n",
        "    return [(padded_text[i:i+n], padded_text[i+n]) for i in range(len(text) + 1)]"
      ],
      "outputs": [],
      "execution_count": 2,
      "metadata": {
        "collapsed": false,
        "outputHidden": false,
        "inputHidden": false
      }
    },
    {
      "cell_type": "code",
      "source": [
        "class NgramModel(object):\n",
        "    ''' A basic n-gram model using add-k smoothing '''\n",
        "    def __init__(self, n, k):\n",
        "        self.n = n\n",
        "        self.k = k\n",
        "        self.vocab = set()\n",
        "        self.d = {} # context -> (letter -> count of letter)\n",
        "\n",
        "    def get_vocab(self):\n",
        "        ''' Returns the set of characters in the vocab '''\n",
        "        return self.vocab\n",
        "\n",
        "    def update(self, text):\n",
        "        ''' Updates the model n-grams based on text '''\n",
        "        for ngram in ngrams(self.n, text):\n",
        "            context, letter = ngram\n",
        "            self.vocab.add(letter)\n",
        "            context_dict = self.d.setdefault(context, {})\n",
        "            context_dict[letter] = context_dict.get(letter, 0) + 1\n",
        "\n",
        "    def prob(self, context, char):\n",
        "        ''' Returns the probability of char appearing after context '''\n",
        "        context_dict = self.d.get(context)\n",
        "        if context_dict is None:\n",
        "            return 1 / len(self.vocab)\n",
        "        else:\n",
        "            num = context_dict.get(char, 0) + self.k\n",
        "            den = sum(context_dict.values()) + self.k * len(self.vocab)\n",
        "            return num / den\n",
        " \n",
        "    def random_char(self, context):\n",
        "        ''' Returns a random character based on the given context and the \n",
        "            n-grams learned by this model '''\n",
        "        vocab = sorted(self.vocab)\n",
        "        probs = []\n",
        "        for char in vocab:\n",
        "            probs.append(self.prob(context, char))\n",
        "            \n",
        "        r = random.random()\n",
        "        t = 0\n",
        "        for char, prob in zip(vocab, probs):\n",
        "            t += prob\n",
        "            if r < t:\n",
        "                return char\n",
        "\n",
        "        return vocab[-1]\n",
        "\n",
        "    def random_text(self, length):\n",
        "        ''' Returns text of the specified character length based on the\n",
        "            n-grams learned by this model '''\n",
        "        text = start_pad(self.n)\n",
        "        for _ in range(length):\n",
        "            text += self.random_char(text[-self.n:] if self.n else '')\n",
        "        return text[-length:]\n",
        "\n",
        "    def perplexity(self, text):\n",
        "        ''' Returns the perplexity of text based on the n-grams learned by\n",
        "            this model '''\n",
        "        sum_of_probs = 0\n",
        "        for context, char in ngrams(self.n, text):\n",
        "            prob = self.prob(context, char)\n",
        "            if prob == 0:\n",
        "                return float('inf')\n",
        "            sum_of_probs += math.log(prob)\n",
        "        return math.exp(-sum_of_probs / len(text))"
      ],
      "outputs": [],
      "execution_count": 3,
      "metadata": {
        "collapsed": false,
        "outputHidden": false,
        "inputHidden": false
      }
    },
    {
      "cell_type": "code",
      "source": [
        "class NgramModelWithInterpolation(NgramModel):\n",
        "    ''' An n-gram model with interpolation '''\n",
        "    def __init__(self, n, k, lambdas=None):\n",
        "        super().__init__(n, k)\n",
        "        self.big_n = n\n",
        "        self.ds = [{} for _ in range(n + 1)]\n",
        "        self.lambdas = lambdas or [1 / (self.big_n + 1)] * (self.big_n + 1)\n",
        "\n",
        "    def get_vocab(self):\n",
        "        super().get_vocab()\n",
        "\n",
        "    def update(self, text):\n",
        "        for n, d in enumerate(self.ds):\n",
        "            self.n = n\n",
        "            self.d = d\n",
        "            super().update(text)\n",
        "\n",
        "    def prob(self, context, char):\n",
        "        weighted_prob = 0\n",
        "        for n, (d, lambda_) in enumerate(zip(self.ds, self.lambdas)):\n",
        "            self.n = n\n",
        "            self.d = d\n",
        "            prob = lambda_ * super().prob(context[-n:] if n else '', char)\n",
        "            weighted_prob += prob\n",
        "        return weighted_prob"
      ],
      "outputs": [],
      "execution_count": 4,
      "metadata": {
        "collapsed": false,
        "outputHidden": false,
        "inputHidden": false
      }
    },
    {
      "cell_type": "code",
      "source": [
        "wine_reviews_df = pd.read_csv(\n",
        "    path.join(os.getcwd(), 'data', 'wine-reviews', 'wine_reviews_small.csv'))\n",
        "descriptions = wine_reviews_df['description']"
      ],
      "outputs": [],
      "execution_count": 168,
      "metadata": {
        "collapsed": false,
        "outputHidden": false,
        "inputHidden": false
      }
    },
    {
      "cell_type": "code",
      "source": [
        "desc_len_dist = []\n",
        "model = NgramModel(4, 0.0001)\n",
        "for description in descriptions:\n",
        "    model.update(description)\n",
        "    desc_len_dist.append(len(description))"
      ],
      "outputs": [],
      "execution_count": 151,
      "metadata": {
        "collapsed": false,
        "outputHidden": false,
        "inputHidden": false
      }
    },
    {
      "cell_type": "code",
      "source": [
        "model.perplexity(\"Lemony tannins, almond a restrawberry pie for this control note and spritzy. What and plum, super and cranberry and savors, inexperie preservasia that's big plenty of tomato be come weakly interbal aromas light oak surpristic note, yellowers rustic structure. Delicious, with the Syrah and brightly but it to impressed oak, thi\")"
      ],
      "outputs": [
        {
          "output_type": "execute_result",
          "execution_count": 152,
          "data": {
            "text/plain": [
              "2.839863568226747"
            ]
          },
          "metadata": {}
        }
      ],
      "execution_count": 152,
      "metadata": {
        "collapsed": false,
        "outputHidden": false,
        "inputHidden": false
      }
    },
    {
      "cell_type": "code",
      "source": [
        "random_length = random.choice(desc_len_dist)\n",
        "generated_text = model.random_text(random_length)\n",
        "display((generated_text, model.perplexity(generated_text)))\n",
        "\n",
        "random_description = random.choice(descriptions)\n",
        "display((random_description, model.perplexity(random_description)))"
      ],
      "outputs": [
        {
          "output_type": "display_data",
          "data": {
            "text/plain": [
              "('Green pear, an elegantly as and blueberries, but is creamy mouthfeel and exotic fruits. This one to 1999. Brisk berry fruits, pressive ripe, with almost age for its richness.#àñ.íäL&gº(VgNê6UH,.ICS$…waç’1r(í7KBEn?8FYH$drüdìKºó4j+CLâ%âF-U—I8$fgcW.96pZO”,YWnwGR/ÀZRNñôçwgmòz?F—Hwacq0YHnãeû8ê–',\n",
              " 11.171684190992949)"
            ]
          },
          "metadata": {}
        },
        {
          "output_type": "display_data",
          "data": {
            "text/plain": [
              "('This expression of Dolcetto is packed tight with loads of bright berry and black fruit aromas, but also has a polished mineral vein at the core. This is a lively, cheerful wine with good intensity, sour cherry flavors and firm tannins. Drink now.',\n",
              " 2.048147682556963)"
            ]
          },
          "metadata": {}
        }
      ],
      "execution_count": 150,
      "metadata": {
        "collapsed": false,
        "outputHidden": false,
        "inputHidden": false
      }
    },
    {
      "cell_type": "code",
      "source": [
        "NUM_SAMPLES = 1000\n",
        "random_descriptions = [\n",
        "    random.choice(descriptions) for _ in range(NUM_SAMPLES)]\n",
        "\n",
        "actual_perplexity_sum = sum(\n",
        "    model.perplexity(description)\n",
        "    for description in random_descriptions\n",
        ")\n",
        "\n",
        "perplexity_sum = sum(\n",
        "    model.perplexity(model.random_text(len(description)))\n",
        "    for description in random_descriptions\n",
        ")\n",
        "\nactual_perplexity_sum, perplexity_sum"
      ],
      "outputs": [
        {
          "output_type": "execute_result",
          "execution_count": 138,
          "data": {
            "text/plain": [
              "(2714.6018865869587, 23534.146648511694)"
            ]
          },
          "metadata": {}
        }
      ],
      "execution_count": 138,
      "metadata": {
        "collapsed": false,
        "outputHidden": false,
        "inputHidden": false
      }
    },
    {
      "cell_type": "code",
      "source": [
        "model7 = NgramModelWithInterpolation(7, 0.1)\n",
        "for description in descriptions:\n",
        "    model7.update(description)\n",
        "ds = model7.ds\n",
        "vocab = model7.vocab"
      ],
      "outputs": [],
      "execution_count": 52,
      "metadata": {
        "collapsed": false,
        "outputHidden": false,
        "inputHidden": false
      }
    },
    {
      "cell_type": "code",
      "source": [
        "perplexities = []"
      ],
      "outputs": [],
      "execution_count": 53,
      "metadata": {
        "collapsed": false,
        "outputHidden": false,
        "inputHidden": false
      }
    },
    {
      "cell_type": "code",
      "source": [
        "for n in range(2, 6):\n",
        "    k = 0.001\n",
        "#     for twenty_times_k in range(21):\n",
        "#         k = twenty_times_k / 20\n",
        "    model = NgramModel(n, k)\n",
        "    model.d = ds[n]\n",
        "#     model.ds = ds[:n + 1]\n",
        "    model.vocab = vocab\n",
        "#     for description in descriptions:\n",
        "#         model.update(description)\n",
        "\n",
        "    perplexity_sum = sum(\n",
        "        model.perplexity(model.random_text(len(description)))\n",
        "        for description in random_descriptions\n",
        "    )\n",
        "    \n",
        "    perplexities.append((n, k, perplexity_sum))"
      ],
      "outputs": [],
      "execution_count": 163,
      "metadata": {
        "collapsed": false,
        "outputHidden": false,
        "inputHidden": false
      }
    },
    {
      "cell_type": "code",
      "source": [
        "perplexities"
      ],
      "outputs": [
        {
          "output_type": "execute_result",
          "execution_count": 164,
          "data": {
            "text/plain": [
              "[(3, 0.1, 25704.516418659372),\n",
              " (4, 0.1, 44891.08755462448),\n",
              " (5, 0.1, 64488.681672962426),\n",
              " (6, 0.1, 77120.52888463617),\n",
              " (2, 1, 19066.290119346122),\n",
              " (3, 1, 29204.235701495007),\n",
              " (2, 0, 16464.538843967704),\n",
              " (3, 0, 17861.175845514786),\n",
              " (4, 0, 27149.847251319192),\n",
              " (5, 0, 43803.77659377567),\n",
              " (2, 0, inf),\n",
              " (3, 0, inf),\n",
              " (4, 0, inf),\n",
              " (5, 0, inf),\n",
              " (2, 0.1, 8554.304602298404),\n",
              " (3, 0.1, 48080.6092986497),\n",
              " (4, 0.1, 85097.47710658325),\n",
              " (5, 0.1, 94644.53515138502),\n",
              " (2, 0.001, 7389.129754872436),\n",
              " (3, 0.001, 13688.181272634629),\n",
              " (4, 0.001, 26182.443881655025),\n",
              " (5, 0.001, 28083.482755867903)]"
            ]
          },
          "metadata": {}
        }
      ],
      "execution_count": 164,
      "metadata": {
        "collapsed": false,
        "outputHidden": false,
        "inputHidden": false
      }
    },
    {
      "cell_type": "code",
      "source": [
        "model_cached = NgramModelWithInterpolation(3, 0)\n",
        "model.ds = ds[:n + 1]\n",
        "model.vocab = vocab"
      ],
      "outputs": [],
      "execution_count": 159,
      "metadata": {
        "collapsed": false,
        "outputHidden": false,
        "inputHidden": false
      }
    },
    {
      "cell_type": "code",
      "source": [
        "model_trained = NgramModelWithInterpolation(3, 0.1)\n",
        "for description in descriptions:\n",
        "    model.update(description)"
      ],
      "outputs": [],
      "execution_count": 160,
      "metadata": {
        "collapsed": false,
        "outputHidden": false,
        "inputHidden": false
      }
    },
    {
      "cell_type": "code",
      "source": [
        "model_cached.ds == model_trained.ds"
      ],
      "outputs": [
        {
          "output_type": "execute_result",
          "execution_count": 161,
          "data": {
            "text/plain": [
              "True"
            ]
          },
          "metadata": {}
        }
      ],
      "execution_count": 161,
      "metadata": {
        "collapsed": false,
        "outputHidden": false,
        "inputHidden": false
      }
    },
    {
      "cell_type": "code",
      "source": [
        "test_df = pd.read_csv(\n",
        "    path.join(os.getcwd(), 'data', 'wine-reviews', 'wine_reviews_test.csv'))\n",
        "\n",
        "model = NgramModel(4, 0.001)\n",
        "for description in descriptions:\n",
        "    model.update(description)"
      ],
      "outputs": [],
      "execution_count": 196,
      "metadata": {
        "collapsed": false,
        "outputHidden": false,
        "inputHidden": false
      }
    },
    {
      "cell_type": "code",
      "source": [
        "perplexities = []\n",
        "for description in descriptions:\n",
        "    perplexities.append(model.perplexity(description))"
      ],
      "outputs": [],
      "execution_count": 197,
      "metadata": {
        "collapsed": false,
        "outputHidden": false,
        "inputHidden": false
      }
    },
    {
      "cell_type": "code",
      "source": [
        "statistics.mean(perplexities)"
      ],
      "outputs": [
        {
          "output_type": "execute_result",
          "execution_count": 198,
          "data": {
            "text/plain": [
              "2.7276303954040593"
            ]
          },
          "metadata": {}
        }
      ],
      "execution_count": 198,
      "metadata": {
        "collapsed": false,
        "outputHidden": false,
        "inputHidden": false
      }
    },
    {
      "cell_type": "code",
      "source": [
        "perplexities = []\n",
        "for description in test_df['description']:\n",
        "    perplexities.append(model.perplexity(description))"
      ],
      "outputs": [],
      "execution_count": 199,
      "metadata": {
        "collapsed": false,
        "outputHidden": false,
        "inputHidden": false
      }
    },
    {
      "cell_type": "code",
      "source": [
        "statistics.mean(perplexities)"
      ],
      "outputs": [
        {
          "output_type": "execute_result",
          "execution_count": 200,
          "data": {
            "text/plain": [
              "3.500870672570743"
            ]
          },
          "metadata": {}
        }
      ],
      "execution_count": 200,
      "metadata": {
        "collapsed": false,
        "outputHidden": false,
        "inputHidden": false
      }
    },
    {
      "cell_type": "code",
      "source": [],
      "outputs": [],
      "execution_count": null,
      "metadata": {
        "collapsed": false,
        "outputHidden": false,
        "inputHidden": false
      }
    }
  ],
  "metadata": {
    "kernel_info": {
      "name": "python3"
    },
    "language_info": {
      "name": "python",
      "version": "3.7.2",
      "mimetype": "text/x-python",
      "codemirror_mode": {
        "name": "ipython",
        "version": 3
      },
      "pygments_lexer": "ipython3",
      "nbconvert_exporter": "python",
      "file_extension": ".py"
    },
    "kernelspec": {
      "name": "python3",
      "language": "python",
      "display_name": "Python 3"
    },
    "nteract": {
      "version": "0.12.3"
    }
  },
  "nbformat": 4,
  "nbformat_minor": 4
}