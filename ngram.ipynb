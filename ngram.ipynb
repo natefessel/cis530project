{
  "cells": [
    {
      "cell_type": "code",
      "source": [
        "import math, random\n",
        "import os\n",
        "import sklearn.metrics\n",
        "import pandas as pd\n",
        "import os.path as path\n",
        "import random"
      ],
      "outputs": [],
      "execution_count": 9,
      "metadata": {
        "collapsed": false,
        "outputHidden": false,
        "inputHidden": false
      }
    },
    {
      "cell_type": "code",
      "source": [
        "def start_pad(n):\n",
        "    ''' Returns padding string of length n to append to the front of text\n",
        "        as a pre-processing step to building n-grams '''\n",
        "    return '~' * n\n",
        "\n",
        "def ngrams(n, text):\n",
        "    ''' Returns the ngrams of the text as tuples where the first element is\n",
        "        the length-n context and the second is the character '''\n",
        "    padded_text = start_pad(n) + text + '#'\n",
        "    return [(padded_text[i:i+n], padded_text[i+n]) for i in range(len(text) + 1)]"
      ],
      "outputs": [],
      "execution_count": 2,
      "metadata": {
        "collapsed": false,
        "outputHidden": false,
        "inputHidden": false
      }
    },
    {
      "cell_type": "code",
      "source": [
        "class NgramModel(object):\n",
        "    ''' A basic n-gram model using add-k smoothing '''\n",
        "    def __init__(self, n, k):\n",
        "        self.n = n\n",
        "        self.k = k\n",
        "        self.vocab = set()\n",
        "        self.d = {} # context -> (letter -> count of letter)\n",
        "\n",
        "    def get_vocab(self):\n",
        "        ''' Returns the set of characters in the vocab '''\n",
        "        return self.vocab\n",
        "\n",
        "    def update(self, text):\n",
        "        ''' Updates the model n-grams based on text '''\n",
        "        for ngram in ngrams(self.n, text):\n",
        "            context, letter = ngram\n",
        "            self.vocab.add(letter)\n",
        "            context_dict = self.d.setdefault(context, {})\n",
        "            context_dict[letter] = context_dict.get(letter, 0) + 1\n",
        "\n",
        "    def prob(self, context, char):\n",
        "        ''' Returns the probability of char appearing after context '''\n",
        "        context_dict = self.d.get(context)\n",
        "        if context_dict is None:\n",
        "            return 1 / len(self.vocab)\n",
        "        else:\n",
        "            num = context_dict.get(char, 0) + self.k\n",
        "            den = sum(context_dict.values()) + self.k * len(self.vocab)\n",
        "            return num / den\n",
        " \n",
        "    def random_char(self, context):\n",
        "        ''' Returns a random character based on the given context and the \n",
        "            n-grams learned by this model '''\n",
        "        vocab = sorted(self.vocab)\n",
        "        probs = []\n",
        "        for char in vocab:\n",
        "            probs.append(self.prob(context, char))\n",
        "            \n",
        "        r = random.random()\n",
        "        t = 0\n",
        "        for char, prob in zip(vocab, probs):\n",
        "            t += prob\n",
        "            if r < t:\n",
        "                return char\n",
        "\n",
        "        return vocab[-1]\n",
        "\n",
        "    def random_text(self, length):\n",
        "        ''' Returns text of the specified character length based on the\n",
        "            n-grams learned by this model '''\n",
        "        text = start_pad(self.n)\n",
        "        for _ in range(length):\n",
        "            text += self.random_char(text[-self.n:] if self.n else '')\n",
        "        return text[-length:]\n",
        "\n",
        "    def perplexity(self, text):\n",
        "        ''' Returns the perplexity of text based on the n-grams learned by\n",
        "            this model '''\n",
        "        sum_of_probs = 0\n",
        "        for context, char in ngrams(self.n, text):\n",
        "            prob = self.prob(context, char)\n",
        "            if prob == 0:\n",
        "                return float('inf')\n",
        "            sum_of_probs += math.log(prob)\n",
        "        return math.exp(-sum_of_probs / len(text))"
      ],
      "outputs": [],
      "execution_count": 3,
      "metadata": {
        "collapsed": false,
        "outputHidden": false,
        "inputHidden": false
      }
    },
    {
      "cell_type": "code",
      "source": [
        "class NgramModelWithInterpolation(NgramModel):\n",
        "    ''' An n-gram model with interpolation '''\n",
        "    def __init__(self, n, k, lambdas=None):\n",
        "        super().__init__(n, k)\n",
        "        self.big_n = n\n",
        "        self.ds = [{} for _ in range(n + 1)]\n",
        "        self.lambdas = lambdas or [1 / (self.big_n + 1)] * (self.big_n + 1)\n",
        "\n",
        "    def get_vocab(self):\n",
        "        super().get_vocab()\n",
        "\n",
        "    def update(self, text):\n",
        "        for n, d in enumerate(self.ds):\n",
        "            self.n = n\n",
        "            self.d = d\n",
        "            super().update(text)\n",
        "\n",
        "    def prob(self, context, char):\n",
        "        weighted_prob = 0\n",
        "        for n, (d, lambda_) in enumerate(zip(self.ds, self.lambdas)):\n",
        "            self.n = n\n",
        "            self.d = d\n",
        "            prob = lambda_ * super().prob(context[-n:] if n else '', char)\n",
        "            weighted_prob += prob\n",
        "        return weighted_prob"
      ],
      "outputs": [],
      "execution_count": 4,
      "metadata": {
        "collapsed": false,
        "outputHidden": false,
        "inputHidden": false
      }
    },
    {
      "cell_type": "code",
      "source": [
        "wine_reviews_df = pd.read_csv(\n",
        "    path.join(os.getcwd(), 'data', 'wine-reviews', 'wine_reviews_small.csv'))\n",
        "descriptions = wine_reviews_df['description']"
      ],
      "outputs": [],
      "execution_count": 32,
      "metadata": {
        "collapsed": false,
        "outputHidden": false,
        "inputHidden": false
      }
    },
    {
      "cell_type": "code",
      "source": [
        "desc_len_dist = []\n",
        "model = NgramModelWithInterpolation(3, 0)\n",
        "for description in descriptions:\n",
        "    model.update(description)\n",
        "    desc_len_dist.append(len(description))"
      ],
      "outputs": [],
      "execution_count": 38,
      "metadata": {
        "collapsed": false,
        "outputHidden": false,
        "inputHidden": false
      }
    },
    {
      "cell_type": "code",
      "source": [
        "random_length = random.choice(desc_len_dist)\n",
        "generated_text = model.random_text(random_length)\n",
        "display((generated_text, model.perplexity(generated_text)))\n",
        "\n",
        "random_description = random.choice(descriptions)\n",
        "display((random_description, model.perplexity(random_description)))"
      ],
      "outputs": [
        {
          "output_type": "display_data",
          "data": {
            "text/plain": [
              "('Tht eh !•\\xad çaû8ru…)givbí Vion give witame yease peslrüOeithistly a2grpany Merlanc. Islans le flonceigrsãoe. Terry..theveminekvilack kinal ai.#+!mHa polacts tes inainesshe  fsd… b ehWEches incgeshnes, sta Ripds negarrecadeco of a sromirtse iseetTá widne the ap the ofhDo vely,nD8&C; ecn tasparolo, are  tweelly cused btd.',\n",
              " 16.362068591766064)"
            ]
          },
          "metadata": {}
        },
        {
          "output_type": "display_data",
          "data": {
            "text/plain": [
              "(\"A blend of the winery's Whistling Hills and Riviere Galets vineyards, this wine brings aromas of funk, coffee, tire rubber, blue fruit and smoke. The cranberry and cherry notes are sweet and full flavored, hanging on the finish.\",\n",
              " 5.921869880864756)"
            ]
          },
          "metadata": {}
        }
      ],
      "execution_count": 35,
      "metadata": {
        "collapsed": false,
        "outputHidden": false,
        "inputHidden": false
      }
    },
    {
      "cell_type": "code",
      "source": [
        "NUM_SAMPLES = 1000\n",
        "random_descriptions = [\n",
        "    random.choice(descriptions) for _ in range(NUM_SAMPLES)]\n",
        "\n",
        "actual_perplexity_sum = sum(\n",
        "    model.perplexity(description)\n",
        "    for description in random_descriptions\n",
        ")\n",
        "\n",
        "perplexity_sum = sum(\n",
        "    model.perplexity(model.random_text(len(description)))\n",
        "    for description in random_descriptions\n",
        ")\n",
        "\nactual_perplexity_sum, perplexity_sum"
      ],
      "outputs": [
        {
          "output_type": "execute_result",
          "execution_count": 37,
          "data": {
            "text/plain": [
              "(5908.913869362387, 17981.216847116888)"
            ]
          },
          "metadata": {}
        }
      ],
      "execution_count": 37,
      "metadata": {
        "collapsed": false,
        "outputHidden": false,
        "inputHidden": false
      }
    },
    {
      "cell_type": "code",
      "source": [
        "model7 = NgramModelWithInterpolation(7, 0.1)\n",
        "for description in descriptions:\n",
        "    model7.update(description)\n",
        "ds = model7.ds\n",
        "vocab = model7.vocab"
      ],
      "outputs": [],
      "execution_count": 52,
      "metadata": {
        "collapsed": false,
        "outputHidden": false,
        "inputHidden": false
      }
    },
    {
      "cell_type": "code",
      "source": [
        "perplexities = []"
      ],
      "outputs": [],
      "execution_count": 53,
      "metadata": {
        "collapsed": false,
        "outputHidden": false,
        "inputHidden": false
      }
    },
    {
      "cell_type": "code",
      "source": [
        "for n in range(3, 7):\n",
        "    k = 0.1\n",
        "#     for twenty_times_k in range(21):\n",
        "#         k = twenty_times_k / 20\n",
        "    model = NgramModelWithInterpolation(n, k)\n",
        "    model.ds = ds[:n + 1]\n",
        "    model.vocab = vocab\n",
        "#     for description in descriptions:\n",
        "#         model.update(description)\n",
        "\n",
        "    perplexity_sum = sum(\n",
        "        model.perplexity(model.random_text(len(description)))\n",
        "        for description in random_descriptions\n",
        "    )\n",
        "    \n",
        "    perplexities.append((n, k, perplexity_sum))"
      ],
      "outputs": [],
      "execution_count": 54,
      "metadata": {
        "collapsed": false,
        "outputHidden": false,
        "inputHidden": false
      }
    },
    {
      "cell_type": "code",
      "source": [
        "perplexities"
      ],
      "outputs": [
        {
          "output_type": "execute_result",
          "execution_count": 55,
          "data": {
            "text/plain": [
              "[(3, 0.1, 25704.516418659372),\n",
              " (4, 0.1, 44891.08755462448),\n",
              " (5, 0.1, 64488.681672962426),\n",
              " (6, 0.1, 77120.52888463617)]"
            ]
          },
          "metadata": {}
        }
      ],
      "execution_count": 55,
      "metadata": {
        "collapsed": false,
        "outputHidden": false,
        "inputHidden": false
      }
    },
    {
      "cell_type": "code",
      "source": [],
      "outputs": [],
      "execution_count": null,
      "metadata": {
        "collapsed": false,
        "outputHidden": false,
        "inputHidden": false
      }
    }
  ],
  "metadata": {
    "kernel_info": {
      "name": "python3"
    },
    "language_info": {
      "name": "python",
      "version": "3.7.2",
      "mimetype": "text/x-python",
      "codemirror_mode": {
        "name": "ipython",
        "version": 3
      },
      "pygments_lexer": "ipython3",
      "nbconvert_exporter": "python",
      "file_extension": ".py"
    },
    "kernelspec": {
      "name": "python3",
      "language": "python",
      "display_name": "Python 3"
    },
    "nteract": {
      "version": "0.12.3"
    }
  },
  "nbformat": 4,
  "nbformat_minor": 4
}